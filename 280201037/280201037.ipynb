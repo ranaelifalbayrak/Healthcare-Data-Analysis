{
 "cells": [
  {
   "attachments": {},
   "cell_type": "markdown",
   "id": "b8bbe053",
   "metadata": {},
   "source": [
    "<h2 style=\"text-align: center;\">CENG222</h2>\n",
    "<h3 style=\"text-align: center;\">Probability and Statistics</h3>\n",
    "<h3 style=\"text-align: center;\">Term Project for 2022-2023 Spring</h3>"
   ]
  },
  {
   "attachments": {},
   "cell_type": "markdown",
   "id": "ffa631a2",
   "metadata": {},
   "source": [
    "### DUE DATE: 26.06.2023 - 23:59\n",
    "\n",
    "<u>IMPORTANT NOTES:</u>\n",
    "1. A lecture on Python, NumPy, and Pyplot focusing on this term project will be given next week. Notes from that lecture will also be available for you.\n",
    "2. This is **NOT** a group activity. You can discuss some points with your friends, but each student will submit and be graded **individually**. If you want to be safe rather than sorry, you should consult with the **course assistants** as your primary and with the **instructor** as your secondary source of knowledge.\n",
    "3. The Jupyter Notebook scripts and the reports will be processed manually and automatically to detect plagiarism and cheating. Again: You should be careful about the level of cooperation with your friends. In case of cheating, all parties will be punished equally.\n",
    "4. Your Jupyter Notebook script should be named **studentid.ipynb (not .py!)**, and your report **studentid.pdf.**\n",
    "5. If your report is hand-written, the responsibility is yours to make it as legible as possible. Illegible parts will not be graded.\n",
    "6. Once the projects are graded, you will receive detailed feedback about your submission. There will be a grace period for your objections.\n",
    "\n",
    "<u>NOTES on Jupyter Notebook</u>\n",
    "1. You can use additional cells to implement your code.\n",
    "2. Don't forget to import necessary libraries.\n",
    "3. **IMPORTANT** When you are submiting your work, you must upload as an **.ipynb** file. So, if you are using Google Colab, you should download your code as Jupyter Notebook **.ipynb** file."
   ]
  },
  {
   "attachments": {},
   "cell_type": "markdown",
   "id": "7f0e34e1",
   "metadata": {},
   "source": [
    "### In this project,\n",
    "\n",
    "you will analyze the relationship between five random variables in a healthcare context: exercise frequency (**A**), caloric intake (**B**), patient category (**C**), cholesterol level (**D**), blood pressure (**E**), and Hemoglobin A1c (HbA1c) level (**H**). For this analysis, you will first implement algorithms to generate those variables and create a population. Then by sampling from this population, you will analyze their statistics, estimate different distribution parameters, compute confidence intervals, test a hypothesis, and automatically classify patients into patient categories by looking at their D, E, and H values.\n",
    "<br>\n",
    "<br>\n",
    "You will also produce relevant plots for each step to help you understand and interpret the exercises and check your results. In the meantime, you will calculate or derive estimators for the unknown distribution parameters required for implementations.\n",
    "<br>\n",
    "<br>\n",
    "In conclusion, your project submission will be in two folds: the implementation part for which a single **Python (Jupyter)** script is expected and the reporting part for which a **PDF** file is expected. The project is broken down into many small steps, and if it is in the implementation part, a step is marked with <span style=\"color:red\">**red**</span> and otherwise with <span style=\"color:blue\">**blue**</span>. Only 3 packages are required for implementation: **numpy**, **sympy**, and **pyplot**."
   ]
  },
  {
   "attachments": {},
   "cell_type": "markdown",
   "id": "81dcaf26",
   "metadata": {},
   "source": [
    "### The random variables' details, distiributions, and relations are in the PDF document. Please use those when writing your code."
   ]
  },
  {
   "cell_type": "code",
   "execution_count": null,
   "id": "31053dd2",
   "metadata": {},
   "outputs": [],
   "source": [
    "import numpy as np\n",
    "import sympy as sp\n",
    "from matplotlib import pyplot as plt\n",
    "\n",
    "## You can import additional libraries if you think you need\n",
    "\n",
    "np.set_printoptions(precision=3, suppress=True)"
   ]
  },
  {
   "attachments": {},
   "cell_type": "markdown",
   "id": "b30995e7",
   "metadata": {},
   "source": [
    "### TASK 1: Generating the population\n",
    "<br>\n",
    "<br>\n",
    "Your first task is to generate synthetic patient data.\n",
    "<br>\n",
    "<br>\n",
    "Firstly, you must calculate the unknown distribution parameters and implement the generator functions. You are <u><b>advised</b></u> to use online equation solvers or integral calculators such as Wolfram Alpha or Symbolab in your calculations. Just <u><b>do not forget</b></u> to include each step in detail in your report. In your implementations, you are <u><b>not allowed</b></u> to use any number generator function other than <u><b><span style=\"color:green\">numpy.random.random</span></b></u> unless stated otherwise.\n",
    "<br>\n",
    "<br>\n",
    "Next, you must generate the population data for each random variable using its generator function. To have a better insight into the population and check if you have implemented everything correctly, you should plot the population histograms and probability mass/density functions (PMF/PDF).\n",
    "<br>\n",
    "<br>\n",
    "Here are the detailed steps:"
   ]
  },
  {
   "attachments": {},
   "cell_type": "markdown",
   "id": "38290659",
   "metadata": {},
   "source": [
    "<span style=\"color:red\">**1**</span>. Implement a function (**pmf_a**) to compute the PMF of A."
   ]
  },
  {
   "cell_type": "code",
   "execution_count": null,
   "id": "0fada461",
   "metadata": {},
   "outputs": [],
   "source": [
    "def pmf_a(a):\n",
    "    ## write your code here\n",
    "    if a>=0:\n",
    "      return (0.5)**(a+1)\n",
    "    else:\n",
    "       return 0\n"
   ]
  },
  {
   "attachments": {},
   "cell_type": "markdown",
   "id": "77fa6120",
   "metadata": {},
   "source": [
    "<span style=\"color:blue\">**2**</span>. Looking at the PMF of A, comment on which distribution family it looks like. Let’s say a random variable X is from that distribution family; how can you define A in terms of X?"
   ]
  },
  {
   "cell_type": "code",
   "execution_count": null,
   "id": "a164a39c",
   "metadata": {},
   "outputs": [],
   "source": [
    "## Answer it in your report!"
   ]
  },
  {
   "attachments": {},
   "cell_type": "markdown",
   "id": "6c9511c7",
   "metadata": {},
   "source": [
    "<span style=\"color:red\">**3**</span>. <u><b>Using your findings in step 2</b></u>, implement a function (**generate_a**) to generate A."
   ]
  },
  {
   "cell_type": "code",
   "execution_count": null,
   "id": "c70ff8a2",
   "metadata": {},
   "outputs": [],
   "source": [
    "def generate_a():\n",
    "    ## write your code here\n",
    "    X = 0\n",
    "    rnd = np.random.random()\n",
    "    while rnd <= 0.5:\n",
    "        X += 1\n",
    "        rnd = np.random.random()\n",
    "    return X\n"
   ]
  },
  {
   "attachments": {},
   "cell_type": "markdown",
   "id": "221a3418",
   "metadata": {},
   "source": [
    "<span style=\"color:blue\">**4**</span>. For B, find the values of x, y, z, and t."
   ]
  },
  {
   "cell_type": "code",
   "execution_count": null,
   "id": "fc71dea2",
   "metadata": {},
   "outputs": [],
   "source": [
    "## Answer it in your report!"
   ]
  },
  {
   "attachments": {},
   "cell_type": "markdown",
   "id": "38ccfa4b",
   "metadata": {},
   "source": [
    "<span style=\"color:red\">**5**</span>. Implement a function (**pdf_b**) to compute the PDF of B."
   ]
  },
  {
   "cell_type": "code",
   "execution_count": null,
   "id": "7c8ca35b",
   "metadata": {},
   "outputs": [],
   "source": [
    "def pdf_b(b):\n",
    "    ## write your code here\n",
    "    if 1/2 <= b <= 5/2:\n",
    "        return -0.096 * b**3 + 0.432 * b**2 - 0.352 * b + 0.08\n",
    "    elif 5/2 <= b <= 11/2:\n",
    "        return (-2 * b + 11) / 15\n",
    "    else:\n",
    "        return 0\n",
    "    "
   ]
  },
  {
   "attachments": {},
   "cell_type": "markdown",
   "id": "200e6e03",
   "metadata": {},
   "source": [
    "<span style=\"color:red\">**6**</span>. Implement a function (**generate_b**) to generate B <u><b>using the rejection method.</b></u>"
   ]
  },
  {
   "cell_type": "code",
   "execution_count": null,
   "id": "88387dcc",
   "metadata": {},
   "outputs": [],
   "source": [
    "def generate_b():\n",
    "    ## write your code here\n",
    "    found_valid_b = False\n",
    "    while not found_valid_b :\n",
    "        b = np.random.random() * 5 + 0.5  # desired range\n",
    "        pdf_value = pdf_b(b)  \n",
    "\n",
    "        y = np.random.random() * 0.4\n",
    "\n",
    "        if y <= pdf_value:\n",
    "            found_valid_b = True\n",
    "    return b\n",
    "     "
   ]
  },
  {
   "attachments": {},
   "cell_type": "markdown",
   "id": "557aaceb",
   "metadata": {},
   "source": [
    "<span style=\"color:red\">**7**</span>. Implement a function (**calculate_c**) to calculate C using generated A and B values. You can\n",
    "enumerate C if you like."
   ]
  },
  {
   "cell_type": "code",
   "execution_count": null,
   "id": "79aa555e",
   "metadata": {},
   "outputs": [],
   "source": [
    "def calculate_c(a, b):\n",
    "    ## write your code here\n",
    "    if a<2 and a>=0:\n",
    "        if b>=3 and b<=5.5:\n",
    "            c=\"very risky\"\n",
    "        if b<3 and b >= 0.5:\n",
    "            c=\"risky\"\n",
    "    if a>=2:\n",
    "        if b>=3 and b<=5.5:\n",
    "            c=\"risky\"\n",
    "        if b<3 and b >= 0.5:\n",
    "            c=\"not risky\"\n",
    "    \n",
    "    return c\n"
   ]
  },
  {
   "attachments": {},
   "cell_type": "markdown",
   "id": "cee9987c",
   "metadata": {},
   "source": [
    "<span style=\"color:red\">**8**</span>. Implement a function (**pdf_d**) to compute the PDF of D."
   ]
  },
  {
   "cell_type": "code",
   "execution_count": null,
   "id": "03dbe649",
   "metadata": {},
   "outputs": [],
   "source": [
    "def pdf_d(d, mu, sigma):\n",
    "    ## write your code here\n",
    "    return (1/(sigma*(2*np.pi)**(1/2)))*np.exp(-((d - mu) ** 2) / (2 * sigma ** 2))\n",
    "    "
   ]
  },
  {
   "attachments": {},
   "cell_type": "markdown",
   "id": "fe52f09d",
   "metadata": {},
   "source": [
    "<span style=\"color:red\">**9**</span>. Implement a function (**generate_d**) to generate D for the calculated C values <u><b>using NumPy’s\n",
    "    normal distribution function: <span style=\"color:green\">numpy.random.normal.</span></b></u>"
   ]
  },
  {
   "cell_type": "code",
   "execution_count": null,
   "id": "bee764e2",
   "metadata": {},
   "outputs": [],
   "source": [
    "def generate_d(c):\n",
    "    ## write your code here\n",
    "    if c==\"very risky\":\n",
    "        return np.random.normal(loc=240, scale=50)\n",
    "    elif c==\"risky\":\n",
    "        return np.random.normal(loc=200, scale=70)\n",
    "    elif c==\"not risky\":\n",
    "        return np.random.normal(loc=160, scale=30)\n",
    "    \n",
    "    "
   ]
  },
  {
   "attachments": {},
   "cell_type": "markdown",
   "id": "8f27ba28",
   "metadata": {},
   "source": [
    "<span style=\"color:blue\">**10**</span>. Calculate the PDF of E."
   ]
  },
  {
   "attachments": {},
   "cell_type": "markdown",
   "id": "f9f03cb7",
   "metadata": {},
   "source": [
    "### Answer it in your report."
   ]
  },
  {
   "attachments": {},
   "cell_type": "markdown",
   "id": "06267ab8",
   "metadata": {},
   "source": [
    "<span style=\"color:red\">**11**</span>. Implement a function (**pdf_e**) to compute the PDF of E."
   ]
  },
  {
   "cell_type": "code",
   "execution_count": null,
   "id": "9caafb91",
   "metadata": {},
   "outputs": [],
   "source": [
    "def pdf_e(e, i, j):\n",
    "    ## write your code here\n",
    "    if i + np.sqrt(j) <= e <= i + np.sqrt(j + 1):\n",
    "        return 2 * (e - i)\n",
    "    else:\n",
    "        return 0"
   ]
  },
  {
   "attachments": {},
   "cell_type": "markdown",
   "id": "8d188d23",
   "metadata": {},
   "source": [
    "<span style=\"color:red\">**12**</span>. Implement a function (**generate_e**) to generate E <u><b>using the inverse transformation method</b></u> and\n",
    "    the calculated C values."
   ]
  },
  {
   "cell_type": "code",
   "execution_count": null,
   "id": "458faa19",
   "metadata": {},
   "outputs": [],
   "source": [
    "def generate_e(c):\n",
    "    ## write your code here\n",
    "    rnd=np.random.random()\n",
    "    if c==\"very risky\":\n",
    "        i=0.9\n",
    "        j=0.2\n",
    "    elif c==\"risky\":\n",
    "        i=0.5\n",
    "        j=0.5\n",
    "    elif c==\"not risky\":\n",
    "        i=0.1\n",
    "        j=0.8\n",
    "    e = np.sqrt(rnd+j)+i #inverse of the cdf \n",
    "    return e"
   ]
  },
  {
   "attachments": {},
   "cell_type": "markdown",
   "id": "96f189cd",
   "metadata": {},
   "source": [
    "<span style=\"color:blue\">**13**</span>. For PDF of H, define the parameter l in terms of k. Rewrite the PDF with a single parameter."
   ]
  },
  {
   "attachments": {},
   "cell_type": "markdown",
   "id": "f11d56be",
   "metadata": {},
   "source": [
    "### Answer it in your report."
   ]
  },
  {
   "attachments": {},
   "cell_type": "markdown",
   "id": "7b7fcca7",
   "metadata": {},
   "source": [
    "<span style=\"color:red\">**14**</span>. Based on step 13, implement a function (**pdf_h**) to compute the PDF of H."
   ]
  },
  {
   "cell_type": "code",
   "execution_count": null,
   "id": "61998e98",
   "metadata": {},
   "outputs": [],
   "source": [
    "def pdf_h(h, k, l):\n",
    "    ## write your code here\n",
    "    l = 1-k\n",
    "    if h >= 0 and h <= 1:\n",
    "        return k\n",
    "    elif h > 1 and h <= 2:\n",
    "        return l\n",
    "    else :\n",
    "        return 0\n",
    "     "
   ]
  },
  {
   "attachments": {},
   "cell_type": "markdown",
   "id": "6a48c1e7",
   "metadata": {},
   "source": [
    "<span style=\"color:red\">**15**</span>. Implement a function (**generate_h**) to generate H <u><b>using the rejection method.</b></u>"
   ]
  },
  {
   "cell_type": "code",
   "execution_count": null,
   "id": "6c2ce06f",
   "metadata": {},
   "outputs": [],
   "source": [
    "def generate_h(c):\n",
    "    ## write your code here\n",
    "    found_valid_h = False\n",
    "    while not found_valid_h:\n",
    "        h = np.random.random() * 2  # desired range\n",
    "\n",
    "        if c == \"very risky\":\n",
    "            k = 0.1\n",
    "        elif c == \"risky\":\n",
    "            k = 0.4\n",
    "        elif c == \"not risky\":\n",
    "            k = 0.7\n",
    "\n",
    "        y = np.random.random()*max(k,1-k) #chhosing bigger one for the upper bound\n",
    "        pdf = pdf_h(h,k,k)\n",
    "\n",
    "        if y <= pdf: \n",
    "            found_valid_h = True  \n",
    "    return h"
   ]
  },
  {
   "attachments": {},
   "cell_type": "markdown",
   "id": "26016da8",
   "metadata": {},
   "source": [
    "<span style=\"color:red\">**16**</span>. Implement a function (**generate_population**) that takes the number of patients (W) as input and generates and returns a population of size (Wx6) using the functions implemented above.\n",
    "<br>\n",
    "<br>\n",
    "In other words, for W many patients, it should first generate A and B values and then calculate the C values for them. Then based on the patients’ computed C values, it should generate D, E, and H values. Finally, it should also plot the following:\n",
    "* a. In the same figure, plot the population histogram for A and the pmf of A.\n",
    "* b. In the same figure, plot the population histogram for B and the pdf of B.\n",
    "* c. Plot the population histogram for C and print the pmf of C estimated using the\n",
    "generated population.\n",
    "* d. In the same figure, plot the population histogram for D and the joint pdf of D with each\n",
    "possible value of C.\n",
    "* e. In the same figure, plot the population histogram for E and the joint pdf of D with each\n",
    "possible value of C."
   ]
  },
  {
   "cell_type": "code",
   "execution_count": null,
   "id": "1f655fe7",
   "metadata": {},
   "outputs": [],
   "source": [
    "def generate_population(N):\n",
    "    ## Write your population generation codes\n",
    "    A, B, C, D, E, H= [], [], [], [],[],[]\n",
    "    pmf_a_values,pdf_b_values =[],[]\n",
    "    population=[]\n",
    "    very_risky, risky, not_risky = 0, 0, 0\n",
    "    for i in range(N):\n",
    "        a=generate_a()\n",
    "        b=generate_b()\n",
    "        c=calculate_c(a,b)\n",
    "        if c == \"very risky\":\n",
    "            very_risky+=1\n",
    "        elif c == \"risky\":\n",
    "            risky+=1\n",
    "        elif c == \"not risky\":\n",
    "            not_risky+=1\n",
    "        d=generate_d(c)\n",
    "        e=generate_e(c)\n",
    "        h=generate_h(c)\n",
    "        A.append(a)\n",
    "        B.append(b)\n",
    "        C.append(c)\n",
    "        D.append(d)\n",
    "        E.append(e)\n",
    "        H.append(h)\n",
    "        p = [a,b,c,d,e,h]\n",
    "        population.append(p)\n",
    "    \n",
    "    ### Write your plot codes here\n",
    "\n",
    "    exercise_frequencies = range(0,10)\n",
    "    for frequency in exercise_frequencies:\n",
    "        pmf_a_values.append(pmf_a(frequency))\n",
    "    \n",
    "    plt.figure(1)\n",
    "    plt.hist(A, bins=10, range=(0,10),align='left', density=True, alpha=0.7, label='Population Histogram',edgecolor=\"black\")\n",
    "    plt.stem(exercise_frequencies, pmf_a_values, linefmt='r-', markerfmt='ro', basefmt=' ',label=\"PMF\")\n",
    "    plt.xticks(range(0, 10))\n",
    "    plt.xlabel('Exercise Frequencies')\n",
    "    plt.ylabel('Probability/Count')\n",
    "    plt.title('Probability Mass Function and Population Histogram of A')\n",
    "    plt.legend()\n",
    "\n",
    "    for calorie in (np.linspace(1/2,11/2)):\n",
    "        pdf_b_values.append(pdf_b(calorie))\n",
    "    \n",
    "    plt.figure(2)\n",
    "    plt.hist(B, bins=50 ,align='left', density=True, alpha=0.7, label='Population Histogram',edgecolor=\"black\")\n",
    "    plt.plot(np.linspace(1/2,11/2), pdf_b_values, 'r-', label='PDF Curve')\n",
    "    plt.ylabel('Probability/Count')\n",
    "    plt.xlabel('Kilocalorie Intake')\n",
    "    plt.title('Probability Density Function and Population Histogram of B')\n",
    "    plt.legend()\n",
    "    \n",
    "    plt.figure(3)\n",
    "    counts = []\n",
    "    categories = ['risky', 'very risky', 'not risky']\n",
    "    for category in categories:\n",
    "        counts.append(C.count(category))\n",
    "    bin_edges = np.arange(len(categories) + 1)-0.5\n",
    "    \n",
    "    plt.hist([0]*counts[0] + [1]*counts[1] + [2]*counts[2], bins=bin_edges, edgecolor=\"black\",align=\"mid\",density=True)\n",
    "    plt.xticks(range(3), categories)\n",
    "    plt.xlabel('Patient Category')\n",
    "    plt.ylabel('Frequency')\n",
    "    plt.title('Population Histogram of C')\n",
    "\n",
    "    print(\"Very Risky:\",very_risky/N)\n",
    "    print(\"Risky:\",risky/N)\n",
    "    print(\"Not Risky:\",not_risky/N)\n",
    "\n",
    "\n",
    "    plt.figure(4)\n",
    "    sorted_d= sorted(list(set(D)))\n",
    "    plt.hist(D, bins=50 ,align='left', density=True, alpha=0.7, label='Population Histogram',edgecolor=\"black\")\n",
    "    plt.plot(sorted_d, [pdf_d(d, 200, 70) for d in sorted_d],label=\"risky\")\n",
    "    plt.plot(sorted_d, [pdf_d(d, 160, 30) for d in sorted_d],label=\"not risky\")\n",
    "    plt.plot(sorted_d, [pdf_d(d, 240, 50) for d in sorted_d],label=\"very risky\")\n",
    "    plt.xlabel('Cholesterol Level')\n",
    "    plt.ylabel('Probability/Frequency')\n",
    "    plt.title('Probability Density Function and Population Histogram of D')\n",
    "    plt.legend()\n",
    "\n",
    "    plt.figure(5)\n",
    "    sorted_e= sorted(list(set(E)))\n",
    "    plt.hist(E, bins=50 ,align='left', density=True, alpha=0.7, label='Population Histogram',edgecolor=\"black\")\n",
    "    plt.plot(sorted_e, [pdf_e(e, 0.5, 0.5) for e in sorted_e],label=\"risky\")\n",
    "    plt.plot(sorted_e, [pdf_e(e, 0.1, 0.8) for e in sorted_e],label=\"not risky\")\n",
    "    plt.plot(sorted_e, [pdf_e(e, 0.9, 0.2) for e in sorted_e],label=\"very risky\")\n",
    "    plt.xlabel('Blood Presure')\n",
    "    plt.ylabel('Probability/Frequency')\n",
    "    plt.title('Probability Density Function and Population Histogram of E')\n",
    "    plt.legend()\n",
    "\n",
    "    return population"
   ]
  },
  {
   "cell_type": "code",
   "execution_count": null,
   "id": "a0f25f61",
   "metadata": {},
   "outputs": [],
   "source": [
    "def column(matrix, i):\n",
    "    return [row[i] for row in matrix]"
   ]
  },
  {
   "attachments": {},
   "cell_type": "markdown",
   "id": "6ecf8a2b",
   "metadata": {},
   "source": [
    "<span style=\"color:red\">**17**</span>. Generate a population of 1000 patients. It should be a 2D array of shape 1000x6 where the random variables appear in the order of A, B, C, D, E, and H."
   ]
  },
  {
   "cell_type": "code",
   "execution_count": null,
   "id": "3ef891fa",
   "metadata": {},
   "outputs": [],
   "source": [
    "## Write your code here\n",
    "population=generate_population(1000)"
   ]
  },
  {
   "attachments": {},
   "cell_type": "markdown",
   "id": "20dcd585",
   "metadata": {},
   "source": [
    "<span style=\"color:red\">**18**</span>. Similar to step 17, generate a population of 1000000 patients. **This will be your hypothetical population to be analyzed in the next tasks.** Compute and print the random variable means and variances for this population using <u><b><span style=\"color:green\">numpy.mean</span></b></u> and <u><b><span style=\"color:green\">numpy.var</span></b></u>"
   ]
  },
  {
   "cell_type": "code",
   "execution_count": null,
   "id": "244c4484",
   "metadata": {},
   "outputs": [],
   "source": [
    "## Write your code here\n",
    "population=generate_population(1000000)\n",
    "mean_A = np.mean(column(population,0))\n",
    "print(\"Mean A:\",mean_A)\n",
    "mean_B = np.mean(column(population,1))\n",
    "print(\"Mean B:\",mean_B)\n",
    "mean_D = np.mean(column(population,3))\n",
    "print(\"Mean D:\",mean_D)\n",
    "mean_E = np.mean(column(population,4))\n",
    "print(\"Mean E:\",mean_E)\n",
    "mean_H = np.mean(column(population,5))\n",
    "print(\"Mean H:\",mean_H)\n",
    "\n",
    "variance_A = np.var(column(population,0))\n",
    "print(\"Variance A:\",variance_A)\n",
    "variance_B = np.var(column(population,1))\n",
    "print(\"Variance B:\",variance_B)\n",
    "variance_D = np.var(column(population,3))\n",
    "print(\"Variance D:\",variance_D)\n",
    "variance_E = np.var(column(population,4))\n",
    "print(\"Variance E:\",variance_E)\n",
    "variance_H = np.var(column(population,5))\n",
    "print(\"Variance H:\",variance_H)\n"
   ]
  },
  {
   "attachments": {},
   "cell_type": "markdown",
   "id": "6a6bceb0",
   "metadata": {},
   "source": [
    "<span style=\"color:blue\">**19**</span>. Copy your figures from steps 17 and 18 into your report so that the two plots for each variable are side by side. You should observe that when the number of generated patients increases, the population statistics converge to the actual PMF/PDF."
   ]
  },
  {
   "attachments": {},
   "cell_type": "markdown",
   "id": "1132f590",
   "metadata": {},
   "source": [
    "### Answer it in your report!"
   ]
  },
  {
   "attachments": {},
   "cell_type": "markdown",
   "id": "f19f030f",
   "metadata": {},
   "source": [
    "### TASK 2: Sampling and Descriptive Statistics\n",
    "<br>\n",
    "<br>\n",
    "Your second task is to take samples from your population and compute and visualize some descriptive statistics for each sample. If you fail to accomplish Task 1, you can load the <u><b>population.txt</b></u> file provided along with this assignment as a NumPy array using <u><b><span style=\"color:green\">numpy.loadtxt.</span></b></u>\n",
    "<br>\n",
    "<br>\n",
    "Firstly, you have to implement the sampler function to take samples from the population. You are <u><b>not allowed</b></u> to use any number generator function other than <u><b><span style=\"color:green\">numpy.random.random</span></b></u>. Next, you must implement estimators for the population mean and variance. You are <u><b>not allowed</b></u> to use <u><b><span style=\"color:green\">numpy.mean</span></b></u>, <u><b><span style=\"color:green\">numpy.std</span></b></u>, or <u><b><span style=\"color:green\">numpy.var</span></b></u> functions. To have a better insight into the performances of these estimators, you should take multiple samples to estimate from and plot the histograms of the estimations with indicators for the actual population mean and variance.\n",
    "<br>\n",
    "<br>\n",
    "Here are the detailed steps:"
   ]
  },
  {
   "attachments": {},
   "cell_type": "markdown",
   "id": "3e505634",
   "metadata": {},
   "source": [
    "<span style=\"color:red\">**1**</span>. Implement a function (**random_sample**) that takes a population and a sample size (n) as inputs and returns a random sample of that population with dimensions of nx6 where the random variables appear in the same order as the population.\n",
    "<br>\n",
    "<br>\n",
    "<u>For the next steps, a column of that population sample (nx1) will be referred to as a <b>sample.</b><u>\n",
    "The first column is a sample of A; the second column is a sample of B, and so on."
   ]
  },
  {
   "cell_type": "code",
   "execution_count": null,
   "id": "09dc1d87",
   "metadata": {},
   "outputs": [],
   "source": [
    "def random_sample(population, sample_size):\n",
    "    ## write your code here\n",
    "    populationSize=len(population)\n",
    "    if sample_size<=populationSize:\n",
    "        indices = []\n",
    "        while len(indices) < sample_size:\n",
    "            index = int(np.random.random() * populationSize) \n",
    "            indices.append(index)\n",
    "    sample=[]\n",
    "    for i in indices:\n",
    "        sample.append(population[i])\n",
    "    return sample"
   ]
  },
  {
   "attachments": {},
   "cell_type": "markdown",
   "id": "279e4465",
   "metadata": {},
   "source": [
    "<span style=\"color:red\">**2**</span>. Implement a function (**estimate_mean**) that estimates the population mean of a variable with\n",
    "its sample mean. It should take a sample and return an estimation for the mean."
   ]
  },
  {
   "cell_type": "code",
   "execution_count": null,
   "id": "22f33200",
   "metadata": {},
   "outputs": [],
   "source": [
    "def estimate_mean(sample):\n",
    "    ## write your code here\n",
    "    sampleSum = sum(sample)\n",
    "    sampleSize = len(sample)\n",
    "    mean = sampleSum / sampleSize\n",
    "    return mean"
   ]
  },
  {
   "attachments": {},
   "cell_type": "markdown",
   "id": "d2111f1a",
   "metadata": {},
   "source": [
    "<span style=\"color:red\">**3**</span>. Implement a function (**estimate_variance_1**) that estimates the population variance of a\n",
    "variable using its sample with the formula below. It should take a sample and return an estimation for the variance.\n",
    "<br>\n",
    "<br>\n",
    "$$s^2 = ∑_{i=1}^N (X_i - \\bar{X})^2 / (n-1)$$"
   ]
  },
  {
   "cell_type": "code",
   "execution_count": null,
   "id": "9d9ccddd",
   "metadata": {},
   "outputs": [],
   "source": [
    "def estimate_variance_1(sample):\n",
    "    ## write your code here\n",
    "    mean = estimate_mean(sample)\n",
    "    n=len(sample)\n",
    "    sampleVariance = 0\n",
    "    for x in sample:\n",
    "        formula = ((x - mean)**2)/(n-1)\n",
    "        sampleVariance+=formula\n",
    "\n",
    "    return sampleVariance\n",
    "    "
   ]
  },
  {
   "attachments": {},
   "cell_type": "markdown",
   "id": "b03578cb",
   "metadata": {},
   "source": [
    "<span style=\"color:red\">**4**</span>. Implement a function (**estimate_variance_2**) that estimates the population variance for a variable using its sample with the formula below. It should take a sample and return an estimation for the variance.\n",
    "<br>\n",
    "<br>\n",
    "$$s^2 = ∑_{i=1}^N (X_i - \\bar{X})^2 / n$$"
   ]
  },
  {
   "cell_type": "code",
   "execution_count": null,
   "id": "20dc79b9",
   "metadata": {},
   "outputs": [],
   "source": [
    "def estimate_variance_2(sample):\n",
    "    ## write your code here\n",
    "    mean = estimate_mean(sample)\n",
    "    n=len(sample)\n",
    "    sampleVariance = 0\n",
    "    for x in sample:\n",
    "        formula = ((x - mean)**2)/(n)\n",
    "        sampleVariance+=formula\n",
    "\n",
    "    return sampleVariance\n",
    "    "
   ]
  },
  {
   "attachments": {},
   "cell_type": "markdown",
   "id": "cee352b0",
   "metadata": {},
   "source": [
    "<span style=\"color:red\">**5**</span>. Implement a function (**descriptive_stats**) that takes a population, sample size (n), number of sampling (m), and variable index as input. It returns lists of estimated means and variances of type 1 and type 2 using the previously implemented functions. In other words, it should take a sample of size n from the population m times and create descriptive statistics lists of length m for the variable at the given index."
   ]
  },
  {
   "cell_type": "code",
   "execution_count": null,
   "id": "15c28813",
   "metadata": {},
   "outputs": [],
   "source": [
    "def descriptive_stats(population, sample_size, num_sampling,var):\n",
    "    ## write your code here\n",
    "    population_var= []\n",
    "    for row in population:\n",
    "        population_var.append(row[var])\n",
    "    est_means = []\n",
    "    est_variances_1 = []\n",
    "    est_variances_2 = []\n",
    "    for i in range(num_sampling):\n",
    "        sample = random_sample(population_var, sample_size)\n",
    "        mean = estimate_mean(sample)\n",
    "        est_means.append(mean)\n",
    "        variance_1 = estimate_variance_1(sample)\n",
    "        est_variances_1.append(variance_1)\n",
    "        variance_2 = estimate_variance_2(sample)\n",
    "        est_variances_2.append(variance_2)\n",
    "    \n",
    "    return (est_means, est_variances_1, est_variances_2)"
   ]
  },
  {
   "attachments": {},
   "cell_type": "markdown",
   "id": "66e1ce54",
   "metadata": {},
   "source": [
    "<span style=\"color:blue\">**6**</span>. Calculate the theoretical mean and variance of variable A."
   ]
  },
  {
   "attachments": {},
   "cell_type": "markdown",
   "id": "b847a6fb",
   "metadata": {},
   "source": [
    "### Answer it in your report!"
   ]
  },
  {
   "attachments": {},
   "cell_type": "markdown",
   "id": "4d50982a",
   "metadata": {},
   "source": [
    "<span style=\"color:red\">**7**</span>. Call the **descriptive_stats** function for variable A with the sample size as 100 and the number of samples as 10000.\n",
    "<br>\n",
    "<br>\n",
    "* a. In the same figure, plot the histogram of the estimated means, a vertical line at the average of the estimated means, and a vertical line at the theoretical mean.\n",
    "* b. In the same figure, plot the histogram of the estimated variances of type 1, a vertical line at the average of the estimated variances of type 1, and a vertical line at the theoretical variance.\n",
    "* c. In the same figure, plot the histogram of the estimated variances of type 2, a vertical line at the average of the estimated variances of type 2, and a vertical line at the theoretical variance."
   ]
  },
  {
   "cell_type": "code",
   "execution_count": null,
   "id": "d49405f0",
   "metadata": {},
   "outputs": [],
   "source": [
    "## Write your code&plot code here\n",
    "est_means_A, est_variances_1_A, est_variances_2_A = descriptive_stats(population,100,10000,0)\n",
    "\n",
    "plt.figure(figsize=(12,6))\n",
    "average_of_means = sum(est_means_A) / len(est_means_A)\n",
    "theoretical_mean_A = 1  \n",
    "plt.hist(est_means_A, bins=100, edgecolor='black')\n",
    "plt.axvline(x=average_of_means, color='red', linestyle='--', label='Average of Estimated Means')\n",
    "plt.axvline(x=theoretical_mean_A, color='green', linestyle='--', label='Theoretical Mean')\n",
    "plt.xlabel('Estimated Means')\n",
    "plt.ylabel('Frequency')\n",
    "plt.title('Estimated Mean Average vs Theoretical Mean of A and Estimated Means Histogram')\n",
    "plt.legend()\n",
    "\n",
    "plt.figure(figsize=(12,6))\n",
    "average_of_variances_type1 = sum(est_variances_1_A) / len(est_variances_1_A)\n",
    "theoretical_variance_A = 2  \n",
    "plt.hist(est_variances_1_A, bins=100, edgecolor='black')\n",
    "plt.axvline(x=average_of_variances_type1, color='red', linestyle='--', label='Average of Estimated Variances (Type 1)')\n",
    "plt.axvline(x=theoretical_variance_A, color='green', linestyle='--', label='Theoretical Variance')\n",
    "plt.xlabel('Estimated Variances (Type 1)')\n",
    "plt.ylabel('Frequency')\n",
    "plt.title('Estimated Variances(Type 1) Average vs Theoretical variance of A and Estimated Variance(Type 1) Histogram')\n",
    "plt.legend()\n",
    "\n",
    "plt.figure(figsize=(12,6))\n",
    "average_of_variances_type2 = sum(est_variances_2_A) / len(est_variances_2_A)\n",
    "plt.hist(est_variances_2_A, bins=100, edgecolor='black')\n",
    "plt.axvline(x=average_of_variances_type2, color='red', linestyle='--', label='Average of Estimated Variances (Type 2)')\n",
    "plt.axvline(x=theoretical_variance_A, color='green', linestyle='--', label='Theoretical Variance')\n",
    "plt.xlabel('Estimated Variances (Type 2)')\n",
    "plt.ylabel('Frequency')\n",
    "plt.title('Estimated Variances(Type 2) Average vs Theoretical variance of A and Estimated Variance(Type 2) Histogram')\n",
    "plt.legend()"
   ]
  },
  {
   "attachments": {},
   "cell_type": "markdown",
   "id": "5e10777e",
   "metadata": {},
   "source": [
    "<span style=\"color:blue\">**8**</span>. Copy your figures from step 7 into your report. What do the figures analyze? What is your conclusion?"
   ]
  },
  {
   "attachments": {},
   "cell_type": "markdown",
   "id": "deb8ce40",
   "metadata": {},
   "source": [
    "### Answer it in your report!"
   ]
  },
  {
   "attachments": {},
   "cell_type": "markdown",
   "id": "11396a6f",
   "metadata": {},
   "source": [
    "<span style=\"color:red\">**9**</span>. Call the **descriptive_stats** function for variable A with the sample size as (100, 200, 300, …,5000) and the number of samples as 500. Compute the variances of the estimated means and the estimated variances of type 1 for each sample size and create the sample size v.s. variance plot for both of them in the same figure."
   ]
  },
  {
   "cell_type": "code",
   "execution_count": null,
   "id": "1aa1d604",
   "metadata": {},
   "outputs": [],
   "source": [
    "## Write your code&plot code here\n",
    "sample_sizes = range(100, 5100, 100)  \n",
    "\n",
    "variances_means = []\n",
    "variances_type1 = []\n",
    "\n",
    "for sample_size in sample_sizes:\n",
    "    est_means, est_variances_1, est_variances_2 = descriptive_stats(population, sample_size,500,0)\n",
    "    variances_means.append(estimate_variance_1(est_means))\n",
    "    variances_type1.append(estimate_variance_1(est_variances_1))\n",
    "\n",
    "plt.plot(sample_sizes, variances_means, label='Variance of Estimated Means')\n",
    "plt.plot(sample_sizes, variances_type1, label='Variance of Estimated Variances (Type 1)')\n",
    "plt.xlabel('Sample Size')\n",
    "plt.ylabel('Variance')\n",
    "plt.title('Variance of Estimated Means vs Variance of Estimated Variances(Type 1)')\n",
    "plt.legend()\n",
    "plt.show()\n",
    "\n"
   ]
  },
  {
   "attachments": {},
   "cell_type": "markdown",
   "id": "31467ea5",
   "metadata": {},
   "source": [
    "<span style=\"color:blue\">**10**</span>. Copy your figure from step 9 into your report. What does this figure analyze? What is your conclusion?"
   ]
  },
  {
   "attachments": {},
   "cell_type": "markdown",
   "id": "c8e44c3e",
   "metadata": {},
   "source": [
    "### Answer it in your report!"
   ]
  },
  {
   "attachments": {},
   "cell_type": "markdown",
   "id": "ca6324f3",
   "metadata": {},
   "source": [
    "### TASK 3: Parameter Estimation\n",
    "<br>\n",
    "<br>\n",
    "Your third task is to estimate some of the distribution parameters using the Method of Moments and the Method of Maximum Likelihood.\n",
    "<br>\n",
    "<br>\n",
    "Here are the detailed steps:"
   ]
  },
  {
   "attachments": {},
   "cell_type": "markdown",
   "id": "c919136d",
   "metadata": {},
   "source": [
    "<span style=\"color:blue\">**1**</span>. For variable D, search online and find out about the Maximum Likelihood estimation of the normal distribution parameters. Add these findings to your report."
   ]
  },
  {
   "attachments": {},
   "cell_type": "markdown",
   "id": "877921e4",
   "metadata": {},
   "source": [
    "### Answer it in your report!"
   ]
  },
  {
   "attachments": {},
   "cell_type": "markdown",
   "id": "81ecc95b",
   "metadata": {},
   "source": [
    "<span style=\"color:red\">**2**</span>. Implement a function (**estimate_mml_d**) that takes a sample of D and returns the Method of Maximum Likelihood estimations for μ and σ. You can use previously implemented functions."
   ]
  },
  {
   "cell_type": "code",
   "execution_count": null,
   "id": "88b4c186",
   "metadata": {},
   "outputs": [],
   "source": [
    "def estimate_mml_d(sample):\n",
    "    ## write your code here\n",
    "    mu = estimate_mean(sample)\n",
    "    sigma = np.sqrt(estimate_variance_2(sample))\n",
    "    \n",
    "    return mu, sigma"
   ]
  },
  {
   "attachments": {},
   "cell_type": "markdown",
   "id": "d7bf5f23",
   "metadata": {},
   "source": [
    "<span style=\"color:blue\">**3**</span>. For variable E, calculate the estimators for its parameters i and j using the Method of Moments. As a result of your calculations, you should reach a point where you have 𝑓(𝑗) = 0 equation such that f is a function with fractional exponents and g(j)=i where g is another\n",
    "function to calculate i using j."
   ]
  },
  {
   "attachments": {},
   "cell_type": "markdown",
   "id": "8ae0fd1b",
   "metadata": {},
   "source": [
    "### Answer it in your report!"
   ]
  },
  {
   "attachments": {},
   "cell_type": "markdown",
   "id": "16344232",
   "metadata": {},
   "source": [
    "<span style=\"color:red\">**4**</span>. Implement a function (**estimate_mom_e**) that takes a sample of E and returns the Method of Moments estimations for i and j. You should use **sympy**’s solver to find j using the following code where you have to replace f(j) with your function expression:\n",
    "```python\n",
    "j = sympy.S('j')\n",
    "sol = sympy.solve(f(j), j)\n",
    "ind = 0\n",
    "while True:\n",
    "    j = float(sol[ind].as_real_imag()[0])\n",
    "    ind += 1\n",
    "    if j >= 0:\n",
    "        break\n",
    "```\n",
    "After this point, you should be able to compute i using g(j)."
   ]
  },
  {
   "cell_type": "code",
   "execution_count": null,
   "id": "ab43dac6",
   "metadata": {},
   "outputs": [],
   "source": [
    "def calc_sample_moment(L,k):\n",
    "    n = len(L)\n",
    "    total = 0\n",
    "    for element in L:\n",
    "        total += element ** k\n",
    "    return total / n"
   ]
  },
  {
   "cell_type": "code",
   "execution_count": null,
   "id": "a71308db",
   "metadata": {},
   "outputs": [],
   "source": [
    "\n",
    "def estimate_mom_e(sample):\n",
    "     ## write your code here\n",
    "    sample_moment1 = calc_sample_moment(sample,1)\n",
    "    sample_moment2 = calc_sample_moment(sample,2)\n",
    "\n",
    "    j = sp.S('j')\n",
    "    i = sample_moment1-(1/3)*((2*(1+j)**(3/2))-(2*(j)**(3/2))) \n",
    "    population_moment2 = (4*((i)/3))*((j+1)**(3/2)-j**(3/2))+(i**2)+j+(1/2)\n",
    "    f_j = population_moment2-sample_moment2\n",
    "\n",
    "    sol = sp.solve(f_j, j)\n",
    "    ind = 0\n",
    "    while True:\n",
    "        j = float(sol[ind].as_real_imag()[0])\n",
    "        ind += 1\n",
    "        if j >= 0:\n",
    "             break\n",
    "         \n",
    "    i = sample_moment1-(1/3)*((2*(1+j)**(3/2))-(2*(j)**(3/2))) \n",
    "\n",
    "    return i, j\n",
    "\n"
   ]
  },
  {
   "cell_type": "code",
   "execution_count": null,
   "id": "ac8192be",
   "metadata": {},
   "outputs": [],
   "source": [
    "from scipy.optimize import fsolve\n",
    "\n",
    "def estimate_mom_e_optimized(sample):\n",
    "    ## write your code here\n",
    "    sample_moment1 = calc_sample_moment(sample,1)\n",
    "    sample_moment2 = calc_sample_moment(sample,2)\n",
    "\n",
    "    def f_j(j):\n",
    "        population_moment2 = (4 * ((sample_moment1 - (1/3) * ((2*(1+j)**(3/2)) - (2*(j)**(3/2))) ) / 3) * ((j+1)**(3/2) - j**(3/2))) + ((sample_moment1 - (1/3) * ((2*(1+j)**(3/2)) - (2*(j)**(3/2))) )**2) + j + (1/2)\n",
    "        return population_moment2 - sample_moment2\n",
    "\n",
    "    j = fsolve(f_j, 0)[0]\n",
    "    i = sample_moment1 - (1/3) * ((2*(1+j)**(3/2)) - (2*(j)**(3/2)))\n",
    "\n",
    "    return i, j\n",
    "\n"
   ]
  },
  {
   "attachments": {},
   "cell_type": "markdown",
   "id": "e0f922f9",
   "metadata": {},
   "source": [
    "<span style=\"color:blue\">**5**</span>. For variable H, compute the estimator for its parameters k and l using the Method of Maximum Likelihood."
   ]
  },
  {
   "attachments": {},
   "cell_type": "markdown",
   "id": "dfe69721",
   "metadata": {},
   "source": [
    "### Answer it in your report!"
   ]
  },
  {
   "attachments": {},
   "cell_type": "markdown",
   "id": "c1252f79",
   "metadata": {},
   "source": [
    "<span style=\"color:red\">**6**</span>. Implement a function (**estimate_mml_h**) that takes a sample of H and returns the Method of Maximum Likelihood estimations for k."
   ]
  },
  {
   "cell_type": "code",
   "execution_count": null,
   "id": "b04f03bc",
   "metadata": {},
   "outputs": [],
   "source": [
    "def estimate_mml_h(sample):\n",
    "    ## write your code here\n",
    "    n = 0  # Number of samples in the range 0 <= h <= 1\n",
    "    m = 0  # Number of samples in the range 1 < h <= 2\n",
    "\n",
    "    for h in sample:\n",
    "        if 0 <= h <= 1:\n",
    "            n += 1\n",
    "        elif 1 < h <= 2:\n",
    "            m += 1\n",
    "\n",
    "    k = n / (n + m)\n",
    "    return k, 1-k"
   ]
  },
  {
   "attachments": {},
   "cell_type": "markdown",
   "id": "72fd01f1",
   "metadata": {},
   "source": [
    "<span style=\"color:red\">**7**</span>. Implement a function (**parameter_estimation**) that takes a population, sample size (n), the number of sampling (m) and patient category as input. Using the previously implemented functions, it samples from <u>a subset of the population where the patient is in the given category</u> and returns lists of estimated parameters of variables D, E, and H."
   ]
  },
  {
   "cell_type": "code",
   "execution_count": null,
   "id": "7c5b1a48",
   "metadata": {},
   "outputs": [],
   "source": [
    "def parameter_estimation(population, sample_size, num_sampling, c):\n",
    "    ## write your code here\n",
    "    population_c, est_dmu, est_dsigma, est_ei, est_ej, est_hk, est_hl = [],[],[],[],[],[],[]\n",
    "    for p in population:\n",
    "        if p[2] == c:\n",
    "            population_c.append(p)\n",
    "    for i in range(num_sampling):\n",
    "        sample = random_sample(population_c, sample_size)\n",
    "        mu,sigma=estimate_mml_d(column(sample,3))\n",
    "        est_dmu.append(mu)\n",
    "        est_dsigma.append(sigma)\n",
    "        i,j = estimate_mom_e_optimized(column(sample,4))\n",
    "        est_ei.append(i)\n",
    "        est_ej.append(j)\n",
    "        k,l = estimate_mml_h(column(sample,5))\n",
    "        est_hk.append(k)\n",
    "        est_hl.append(l)\n",
    "\n",
    "    return est_dmu, est_dsigma, est_ei, est_ej, est_hk, est_hl"
   ]
  },
  {
   "attachments": {},
   "cell_type": "markdown",
   "id": "aa62a010",
   "metadata": {},
   "source": [
    "<span style=\"color:red\">**8**</span>. Call the parameter_estimation function for the “very risky” patient category with the sample size as 100 and the number of samples as 1000.\n",
    "* a. In the same figure, plot the histogram of the estimated i parameter of E, a vertical line at the average of the estimations, and a vertical line at the actual i value.\n",
    "* b. In the same figure, plot the histogram of the estimated j parameter of E, a vertical line at the average of the estimations, and a vertical line at the actual i value.\n",
    "* c. In the same figure, plot the histogram of the estimated k parameter of H, a vertical line at the average of the estimations, and a vertical line at the actual i value.\n",
    "* d. In the same figure, plot the histogram of the estimated i parameter of H, a vertical line at the average of the estimations, and a vertical line at the actual i value."
   ]
  },
  {
   "cell_type": "code",
   "execution_count": null,
   "id": "dad23df2",
   "metadata": {},
   "outputs": [],
   "source": [
    "## Write your code&plot code here\n",
    "est_dmu, est_dsigma, est_ei, est_ej, est_hk, est_hl = parameter_estimation(population,100,1000,\"very risky\")\n",
    "\n",
    "plt.figure()\n",
    "plt.hist(est_ei, bins=50, edgecolor='black')\n",
    "plt.axvline(x=0.9, color='red', linestyle='--', label=\"i parameter\")\n",
    "plt.xlabel('Estimated i Parameter of E')\n",
    "plt.ylabel('Frequency')\n",
    "plt.legend()\n",
    "\n",
    "plt.figure()\n",
    "plt.hist(est_ej, bins=50, edgecolor='black')\n",
    "plt.axvline(x=0.2, color='red', linestyle='--', label='j parameter')\n",
    "plt.xlabel('Estimated j Parameter of E')\n",
    "plt.ylabel('Frequency')\n",
    "plt.legend()\n",
    "\n",
    "plt.figure()\n",
    "plt.hist(est_hk, bins=20, edgecolor='black')\n",
    "plt.axvline(x=0.1, color='red', linestyle='--', label='k parameter')\n",
    "plt.xlabel('Estimated k Parameter of H')\n",
    "plt.ylabel('Frequency')\n",
    "plt.legend()\n",
    "\n",
    "plt.figure()\n",
    "plt.hist(est_hl, bins=20, edgecolor='black')\n",
    "plt.axvline(x=0.9, color='red', linestyle='--', label='l paramter')\n",
    "plt.xlabel('Estimated l Parameter of H')\n",
    "plt.ylabel('Frequency')\n",
    "plt.legend()"
   ]
  },
  {
   "attachments": {},
   "cell_type": "markdown",
   "id": "ba93efbe",
   "metadata": {},
   "source": [
    "<span style=\"color:blue\">**9**</span>. Copy your figures from step 8 into your report."
   ]
  },
  {
   "attachments": {},
   "cell_type": "markdown",
   "id": "d7c39edb",
   "metadata": {},
   "source": [
    "### Answer it in your report!"
   ]
  },
  {
   "attachments": {},
   "cell_type": "markdown",
   "id": "7c10c195",
   "metadata": {},
   "source": [
    "### TASK 4: Confidence intervals\n",
    "<br>\n",
    "<br>\n",
    "Your fourth task is to calculate confidence intervals for the population mean of variable A.\n",
    "<br>\n",
    "<br>\n",
    "Here are the detailed steps:"
   ]
  },
  {
   "attachments": {},
   "cell_type": "markdown",
   "id": "53e99253",
   "metadata": {},
   "source": [
    "<span style=\"color:red\">**1**</span>. Implement a function (**calc_conf_int_mean**) that takes a population, sample size (n), variable index, population standard deviation for that variable, and the confidence level as input. Using a look-up dictionary for quantiles z<sub>0.1</sub>, z<sub>0.05</sub>, z<sub>0.025</sub>, z<sub>0.01</sub>, and z<sub>0.05</sub>, it computes and returns a confidence interval for the population mean of the requested variable."
   ]
  },
  {
   "cell_type": "code",
   "execution_count": null,
   "id": "c57415d0",
   "metadata": {},
   "outputs": [],
   "source": [
    "def calc_conf_int_mean(population, sample_size, var, pop_std, conf_lvl):\n",
    "    ## write your code here\n",
    "    quantiles = {0.1:1.645, 0.05:1.96, 0.025:2.326, 0.01:2.576, 0.005:2.807}\n",
    "    population_var = column(population,var)\n",
    "\n",
    "    sample = random_sample(population_var, sample_size)\n",
    "\n",
    "    sample_mean = estimate_mean(sample)\n",
    "    \n",
    "    std_error = pop_std / np.sqrt(sample_size)\n",
    "\n",
    "    z = quantiles[round((1-conf_lvl)/2,2)]\n",
    "    margin = z * std_error\n",
    "\n",
    "    lower_bound = sample_mean - margin\n",
    "    upper_bound = sample_mean + margin\n",
    "\n",
    "    conf_int = [lower_bound,upper_bound]\n",
    "    \n",
    "    return conf_int"
   ]
  },
  {
   "attachments": {},
   "cell_type": "markdown",
   "id": "2af9a9b2",
   "metadata": {},
   "source": [
    "<span style=\"color:red\">**2**</span>. For random variable A and sample size of 1000, compute the confidence intervals for 20 different samples for both confidence levels as 0.98 and 0.8, using the calc_conf_int_mean function.\n",
    "* a. In the same figure, plot the computed confidence intervals for level 0.98, confidence intervals for level 0.8, and a vertical line at the actual population mean for A."
   ]
  },
  {
   "cell_type": "code",
   "execution_count": null,
   "id": "6920dd07",
   "metadata": {},
   "outputs": [],
   "source": [
    "## Write your code&plot code here\n",
    "\n",
    "conf_int_98 = []\n",
    "conf_int_8 = []\n",
    "for i in range(20):\n",
    "    conf_int_98.append(calc_conf_int_mean(population, 1000, 0, np.sqrt(2), 0.98))\n",
    "    conf_int_8.append(calc_conf_int_mean(population, 1000, 0, np.sqrt(2), 0.8))\n",
    "\n",
    "plt.figure()  \n",
    "\n",
    "y_98 = range(len(conf_int_98))\n",
    "lower_bounds_98 = [interval[0] for interval in conf_int_98]\n",
    "upper_bounds_98 = [interval[1] for interval in conf_int_98]\n",
    "\n",
    "for i in range(len(conf_int_98)):\n",
    "    plt.hlines(y_98[i], lower_bounds_98[i], upper_bounds_98[i], linestyles='dashed')\n",
    "\n",
    "plt.hlines(0.7,0.7,0.7,linestyles=\"dashed\",label=\"0.98 Confidence Level\") #only for labeling\n",
    "\n",
    "y_8 = range(len(conf_int_8))\n",
    "lower_bounds_8 = [interval[0] for interval in conf_int_8]\n",
    "upper_bounds_8 = [interval[1] for interval in conf_int_8]\n",
    "\n",
    "for i in range(len(conf_int_8)):\n",
    "    plt.hlines(y_8[i], lower_bounds_8[i], upper_bounds_8[i], linestyles='dashed', colors='red')\n",
    "plt.hlines(1.5,1.5,1.5,linestyles=\"dashed\",label=\"0.8 Confidence Level\",color=\"red\") #only for labeling\n",
    "\n",
    "\n",
    "plt.axvline(x=mean_A, color='green', linestyle='--', label='Population Mean of A')\n",
    "\n",
    "\n",
    "plt.xlabel('Values')\n",
    "plt.ylabel('Sample Number')\n",
    "plt.title('Confidence Intervals for each Sample')\n",
    "plt.yticks(range(1,21))  \n",
    "plt.legend()\n",
    "\n",
    "\n",
    "\n"
   ]
  },
  {
   "attachments": {},
   "cell_type": "markdown",
   "id": "ba348a31",
   "metadata": {},
   "source": [
    "<span style=\"color:blue\">**3**</span>. Copy your figure from step 2 into your report. How do the confidence intervals change with respect to the confidence levels? Comment on your findings."
   ]
  },
  {
   "attachments": {},
   "cell_type": "markdown",
   "id": "12aa7985",
   "metadata": {},
   "source": [
    "### Answer it in your report!"
   ]
  },
  {
   "attachments": {},
   "cell_type": "markdown",
   "id": "160bf6e3",
   "metadata": {},
   "source": [
    "<span style=\"color:red\">**4**</span>. For random variable A and a confidence level of 0.9, compute the confidence intervals for the sample size of [ 100, 400, …, 4900] using the calc_conf_int_mean function.\n",
    "* a. In the same figure, plot the computed confidence intervals with varying sample sizes and a vertical line at the actual population mean for A."
   ]
  },
  {
   "cell_type": "code",
   "execution_count": null,
   "id": "6e7afb8a",
   "metadata": {},
   "outputs": [],
   "source": [
    "## Write your code&plot code here\n",
    "conf_int_9 = []\n",
    "sample_sizes = range(100,5200,300)\n",
    "for sample_size in sample_sizes:\n",
    "    conf_int_9.append(calc_conf_int_mean(population,sample_size,0,1,0.9))\n",
    "\n",
    "lower_bounds = [interval[0] for interval in conf_int_9]\n",
    "upper_bounds = [interval[1] for interval in conf_int_9]\n",
    "\n",
    "for i in range(len(conf_int_9)):\n",
    "    plt.hlines(sample_sizes[i], lower_bounds[i], upper_bounds[i], linestyles='dashed')\n",
    "plt.axvline(x=mean_A, color='red', linestyle='--', label='Population Mean of A')\n",
    "plt.xlabel('Values')\n",
    "plt.ylabel('Sample Sizes')\n",
    "plt.title('Confidence Intervals for 0.9 Confidence Level According to Sample Sizes')\n",
    "plt.yticks(sample_sizes)\n",
    "plt.legend()\n"
   ]
  },
  {
   "attachments": {},
   "cell_type": "markdown",
   "id": "4b27aa14",
   "metadata": {},
   "source": [
    "<span style=\"color:blue\">**5**</span>. Copy your figure from step 4 into your report. How do the confidence intervals change with respect to the sample sizes? Comment on your findings."
   ]
  },
  {
   "attachments": {},
   "cell_type": "markdown",
   "id": "3c77851e",
   "metadata": {},
   "source": [
    "### Answer it in your report!"
   ]
  },
  {
   "attachments": {},
   "cell_type": "markdown",
   "id": "d166984d",
   "metadata": {},
   "source": [
    "### TASK 5: Hypothesis testing\n",
    "<br>\n",
    "<br>\n",
    "<span style=\"color:blue\"><b>Your fifth task</b></span> is to do hypothesis testing for the case given below. The answer should only be included in your report.\n",
    "<br>\n",
    "<br>\n",
    "After a year-long national publicity campaign on physical fitness, a hospital embarks on a mission to determine if the campaign has been effective. For this purpose, they survey 500 randomly selected patients and find out that their average exercise frequency is now 1.2. Assuming that the standard deviation of exercise frequency has not changed, does this mean that, at a 3% significance level, the mean number of times a patient engages in physical exercise each week has increased? Explain your steps clearly."
   ]
  },
  {
   "attachments": {},
   "cell_type": "markdown",
   "id": "d1797b9f",
   "metadata": {},
   "source": [
    "### Answer it in your report!"
   ]
  },
  {
   "attachments": {},
   "cell_type": "markdown",
   "id": "444a848a",
   "metadata": {},
   "source": [
    "### TASK 6: Naive Bayes classifier\n",
    "<br>\n",
    "<br>\n",
    "Your last task is to apply and evaluate the Naive Bayes classifier for our population.\n",
    "<br>\n",
    "<br>\n",
    "Here are the detailed steps:"
   ]
  },
  {
   "attachments": {},
   "cell_type": "markdown",
   "id": "2df28ab1",
   "metadata": {},
   "source": [
    "<span style=\"color:red\">**1**</span>. Implement a function (**estimate_parameters**) that takes a population sample, and using the previously implemented functions, it estimates and returns the category-conditioned probability distribution parameters of variables D, E, and H and prior category probabilities (3x2 for D and E, and 3 for C and H, in total 18 parameters)."
   ]
  },
  {
   "cell_type": "code",
   "execution_count": null,
   "id": "f0d7c856",
   "metadata": {},
   "outputs": [],
   "source": [
    "def estimate_parameters(pop_sample):\n",
    "    ## write your code here\n",
    "    sample_0, sample_1, sample_2 = [],[],[]\n",
    "    for i in pop_sample:\n",
    "        if i[2] == \"not risky\":\n",
    "            sample_0.append(i)\n",
    "        elif i[2] == \"risky\":\n",
    "            sample_1.append(i)\n",
    "        elif i[2] == \"very risky\":\n",
    "            sample_2.append(i)\n",
    "\n",
    "    p_c0 = len(sample_0)/len(pop_sample)\n",
    "    p_c1 = len(sample_1)/len(pop_sample)\n",
    "    p_c2 = len(sample_2)/len(pop_sample)\n",
    "    est_d0 = estimate_mml_d(column(sample_0,3))\n",
    "    est_d1 = estimate_mml_d(column(sample_1,3))\n",
    "    est_d2 = estimate_mml_d(column(sample_2,3))\n",
    "    est_e0 = estimate_mom_e_optimized(column(sample_0,4))\n",
    "    est_e1 = estimate_mom_e_optimized(column(sample_1,4))\n",
    "    est_e2 = estimate_mom_e_optimized(column(sample_2,4))\n",
    "    est_h0 = estimate_mml_h(column(sample_0,5))\n",
    "    est_h1 = estimate_mml_h(column(sample_1,5))\n",
    "    est_h2 = estimate_mml_h(column(sample_2,5))\n",
    "    \n",
    "    return est_d0, est_d1, est_d2, est_e0, est_e1, est_e2, est_h0, est_h1, est_h2, p_c0, p_c1, p_c2\n"
   ]
  },
  {
   "attachments": {},
   "cell_type": "markdown",
   "id": "5eeddf21",
   "metadata": {},
   "source": [
    "<span style=\"color:blue\">**2**</span>. Derive the formula for the posterior probability of each patient category (C) given D, E, and H."
   ]
  },
  {
   "attachments": {},
   "cell_type": "markdown",
   "id": "f633279c",
   "metadata": {},
   "source": [
    "### Answer it in your report!"
   ]
  },
  {
   "attachments": {},
   "cell_type": "markdown",
   "id": "a770559e",
   "metadata": {},
   "source": [
    "<span style=\"color:red\">**3**</span>. Implement a function (**calc_posterior**) that takes the cholesterol level (d), systolic blood pressure (e), and Hemoglobin A1c (HbA1c) level (h) of a patient and the distribution parameters estimated using the estimate_parameters function. Using the Bayes Rule, it computes and returns patient category (C) probabilities."
   ]
  },
  {
   "cell_type": "code",
   "execution_count": null,
   "id": "624a1db3",
   "metadata": {},
   "outputs": [],
   "source": [
    "def calc_posterior(d, e, h, params):\n",
    "    ## write your code here\n",
    "    est_d0, est_d1, est_d2, est_e0, est_e1, est_e2, est_h0, est_h1, est_h2, p_c0, p_c1, p_c2 = params\n",
    "\n",
    "    epsilon = 1e-8  # negligible epsilon value to avoid runtime warning division by zero\n",
    "\n",
    "    marginal_d = pdf_d(d,est_d0[0],est_d0[1]) + pdf_d(d,est_d1[0],est_d1[1]) + pdf_d(d,est_d2[0],est_d2[1]) + epsilon\n",
    "    marginal_e = pdf_e(e,est_e0[0],est_e0[1]) + pdf_e(e,est_e1[0],est_e1[1]) + pdf_e(e,est_e2[0],est_e2[1]) + epsilon\n",
    "    marginal_h = pdf_h(h,est_h0[0],est_h0[1]) + pdf_h(h,est_h1[0],est_h1[1]) + pdf_h(h,est_h2[0],est_h2[1]) + epsilon\n",
    "\n",
    "    P0 = (pdf_d(d,est_d0[0],est_d0[1])*pdf_e(e,est_e0[0],est_e0[1])*pdf_h(h,est_h0[0],est_h0[1])*p_c0) / (marginal_d * marginal_e * marginal_h)\n",
    "    P1 = (pdf_d(d,est_d1[0],est_d1[1])*pdf_e(e,est_e1[0],est_e1[1])*pdf_h(h,est_h1[0],est_h1[1])*p_c1) / (marginal_d * marginal_e * marginal_h)\n",
    "    P2 = (pdf_d(d,est_d2[0],est_d2[1])*pdf_e(e,est_e2[0],est_e2[1])*pdf_h(h,est_h2[0],est_h2[1])*p_c2) / (marginal_d * marginal_e * marginal_h)\n",
    "    \n",
    "    \n",
    "    return P0, P1, P2"
   ]
  },
  {
   "attachments": {},
   "cell_type": "markdown",
   "id": "073c86b6",
   "metadata": {},
   "source": [
    "<span style=\"color:red\">**4**</span>. Create a sample of size 10000 for training. Training means that the patient categories are known (labeled) and will be used for estimating the category-conditioned probability distribution parameters."
   ]
  },
  {
   "cell_type": "code",
   "execution_count": null,
   "id": "e7992d82",
   "metadata": {},
   "outputs": [],
   "source": [
    "## Write your code here\n",
    "training_sample = random_sample(population,10000)"
   ]
  },
  {
   "attachments": {},
   "cell_type": "markdown",
   "id": "dc373928",
   "metadata": {},
   "source": [
    "<span style=\"color:red\">**5**</span>. Create a sample size of 1000 for testing. Testing means that the patient categories are to be predicted. They will be determined as the category with the maximum posterior probability."
   ]
  },
  {
   "cell_type": "code",
   "execution_count": null,
   "id": "c93b37a7",
   "metadata": {},
   "outputs": [],
   "source": [
    "## Write your code here\n",
    "test_sample = random_sample(population,1000)"
   ]
  },
  {
   "attachments": {},
   "cell_type": "markdown",
   "id": "9113d0f8",
   "metadata": {},
   "source": [
    "<span style=\"color:red\">**6**</span>. Using the training sample, compute the category-conditioned probability distribution parameters."
   ]
  },
  {
   "cell_type": "code",
   "execution_count": null,
   "id": "65747201",
   "metadata": {},
   "outputs": [],
   "source": [
    "## Write your code here\n",
    "est_d0, est_d1, est_d2, est_e0, est_e1, est_e2, est_h0, est_h1, est_h2, p_c0, p_c1, p_c2 = estimate_parameters(training_sample)\n",
    "params = [est_d0, est_d1, est_d2, est_e0, est_e1, est_e2, est_h0, est_h1, est_h2, p_c0, p_c1, p_c2]\n",
    "print(\"Mu and Sigma for not risky patients:\",est_d0)\n",
    "print(\"Mu and Sigma for risky patients:\",est_d1)\n",
    "print(\"Mu and Sigma for very risky patients:\",est_d2)\n",
    "print(\"i and j for not risky patients:\",est_e0)\n",
    "print(\"i and j for risky patients:\",est_e1)\n",
    "print(\"i and j for very risky patients:\",est_e2)\n",
    "print(\"k and l for not risky patients:\",est_h0)\n",
    "print(\"k and l for risky patients:\",est_h1)\n",
    "print(\"k and l for very risky patients:\",est_h2)\n"
   ]
  },
  {
   "attachments": {},
   "cell_type": "markdown",
   "id": "da0834b4",
   "metadata": {},
   "source": [
    "<span style=\"color:red\">**7**</span>. For each patient in the test sample, compute the posterior probability for each category using the corresponding d, e, and h values and the previously estimated distribution parameters. Determine the category of the patient as the one with the highest posterior probability. Compare the estimated and the actual categories to check if the classification was correct. In 1000 tests, compute and print the ratio of the correctly classified patients."
   ]
  },
  {
   "cell_type": "code",
   "execution_count": null,
   "id": "fd163cfd",
   "metadata": {},
   "outputs": [],
   "source": [
    "## Write your code here\n",
    "correct_results = 0\n",
    "for patient in test_sample:\n",
    "    p0, p1, p2 = calc_posterior(patient[3],patient[4],patient[5],params)\n",
    "    if p0 > p1 and p0 > p2:\n",
    "        if patient[2] == \"not risky\":\n",
    "            correct_results+=1\n",
    "    elif p1 > p0 and p1 > p2:\n",
    "        if patient[2] == \"risky\":\n",
    "            correct_results+=1\n",
    "    elif p2 > p1 and p2 > p0:\n",
    "        if patient[2] == \"very risky\":\n",
    "            correct_results+=1\n",
    "ratio = (correct_results / len(test_sample))*100\n",
    "## ratio = ....\n",
    "print(f\"The ratio of the correctly classified patients are {ratio}%.\")"
   ]
  }
 ],
 "metadata": {
  "kernelspec": {
   "display_name": "Python 3 (ipykernel)",
   "language": "python",
   "name": "python3"
  },
  "language_info": {
   "codemirror_mode": {
    "name": "ipython",
    "version": 3
   },
   "file_extension": ".py",
   "mimetype": "text/x-python",
   "name": "python",
   "nbconvert_exporter": "python",
   "pygments_lexer": "ipython3",
   "version": "3.9.16"
  }
 },
 "nbformat": 4,
 "nbformat_minor": 5
}
